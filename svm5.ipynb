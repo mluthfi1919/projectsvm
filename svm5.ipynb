{
  "nbformat": 4,
  "nbformat_minor": 0,
  "metadata": {
    "colab": {
      "provenance": [],
      "authorship_tag": "ABX9TyM1KYo5+pWjzp7TFqblwR04",
      "include_colab_link": true
    },
    "kernelspec": {
      "name": "python3",
      "display_name": "Python 3"
    },
    "language_info": {
      "name": "python"
    }
  },
  "cells": [
    {
      "cell_type": "markdown",
      "metadata": {
        "id": "view-in-github",
        "colab_type": "text"
      },
      "source": [
        "<a href=\"https://colab.research.google.com/github/mluthfi1919/projectsvm/blob/main/svm5.ipynb\" target=\"_parent\"><img src=\"https://colab.research.google.com/assets/colab-badge.svg\" alt=\"Open In Colab\"/></a>"
      ]
    },
    {
      "cell_type": "code",
      "source": [
        "!pip install micromlgen"
      ],
      "metadata": {
        "colab": {
          "base_uri": "https://localhost:8080/"
        },
        "id": "sFCThuADJ8A9",
        "outputId": "204ceb83-7da9-4c0a-a2e3-1efbd86ef359"
      },
      "execution_count": null,
      "outputs": [
        {
          "output_type": "stream",
          "name": "stdout",
          "text": [
            "Collecting micromlgen\n",
            "  Downloading micromlgen-1.1.28.tar.gz (12 kB)\n",
            "  Preparing metadata (setup.py) ... \u001b[?25l\u001b[?25hdone\n",
            "Requirement already satisfied: jinja2 in /usr/local/lib/python3.10/dist-packages (from micromlgen) (3.1.3)\n",
            "Requirement already satisfied: MarkupSafe>=2.0 in /usr/local/lib/python3.10/dist-packages (from jinja2->micromlgen) (2.1.4)\n",
            "Building wheels for collected packages: micromlgen\n",
            "  Building wheel for micromlgen (setup.py) ... \u001b[?25l\u001b[?25hdone\n",
            "  Created wheel for micromlgen: filename=micromlgen-1.1.28-py3-none-any.whl size=32152 sha256=6ce3b63fe286e2f06e007e3882a3b606e01223ffa31c258a0c4ce2372afd5e18\n",
            "  Stored in directory: /root/.cache/pip/wheels/97/54/64/5d82c310920abe1be0d120313ceb9e12c88f5701f53f6ed248\n",
            "Successfully built micromlgen\n",
            "Installing collected packages: micromlgen\n",
            "Successfully installed micromlgen-1.1.28\n"
          ]
        }
      ]
    },
    {
      "cell_type": "code",
      "execution_count": null,
      "metadata": {
        "id": "edhn_4XmIyK8"
      },
      "outputs": [],
      "source": [
        "import pandas as pd\n",
        "import numpy as np\n",
        "import matplotlib.pyplot as plt\n",
        "import seaborn as sns\n",
        "import plotly.graph_objects as go\n",
        "import plotly.express as px\n",
        "\n",
        "from micromlgen import port\n",
        "from sklearn.svm import SVC\n",
        "from sklearn.calibration import LabelEncoder\n",
        "from sklearn.model_selection import train_test_split, cross_val_score, KFold, GridSearchCV, StratifiedKFold\n",
        "from sklearn.metrics import confusion_matrix, accuracy_score, classification_report, ConfusionMatrixDisplay\n",
        "from sklearn.preprocessing import StandardScaler"
      ]
    },
    {
      "cell_type": "code",
      "source": [
        "from google.colab import drive\n",
        "drive.mount('/content/gdrive')"
      ],
      "metadata": {
        "colab": {
          "base_uri": "https://localhost:8080/"
        },
        "id": "p1OssmHIJqLN",
        "outputId": "e9a4a3bb-413c-4a38-d8b8-3b21cd346c03"
      },
      "execution_count": null,
      "outputs": [
        {
          "output_type": "stream",
          "name": "stdout",
          "text": [
            "Mounted at /content/gdrive\n"
          ]
        }
      ]
    },
    {
      "cell_type": "code",
      "source": [
        "df = pd.read_csv('/content/gdrive/MyDrive/Penelitian/Dataset/NewDataset1.csv', index_col = 0)\n",
        "print(df.head())\n",
        "print(df.info())"
      ],
      "metadata": {
        "colab": {
          "base_uri": "https://localhost:8080/"
        },
        "id": "2Zn-Sts3KEJ1",
        "outputId": "703de447-57a1-4c64-b427-f6ffc151a113"
      },
      "execution_count": null,
      "outputs": [
        {
          "output_type": "stream",
          "name": "stdout",
          "text": [
            "      joint1    joint2    joint3    joint4  Gerakan\n",
            "no                                                 \n",
            "1   0.000000  0.000931  0.122721  0.151753        1\n",
            "2   0.315640  0.001020  0.121800  0.146222        1\n",
            "3   0.477911  0.000842  0.119556  0.144964        1\n",
            "4   0.588258  0.000355  0.118274  0.148856        1\n",
            "5   0.086910  0.001197  0.115029  0.155030        1\n",
            "<class 'pandas.core.frame.DataFrame'>\n",
            "Int64Index: 1200 entries, 1 to 1200\n",
            "Data columns (total 5 columns):\n",
            " #   Column   Non-Null Count  Dtype  \n",
            "---  ------   --------------  -----  \n",
            " 0   joint1   1200 non-null   float64\n",
            " 1   joint2   1200 non-null   float64\n",
            " 2   joint3   1200 non-null   float64\n",
            " 3   joint4   1200 non-null   float64\n",
            " 4   Gerakan  1200 non-null   int64  \n",
            "dtypes: float64(4), int64(1)\n",
            "memory usage: 56.2 KB\n",
            "None\n"
          ]
        }
      ]
    },
    {
      "cell_type": "code",
      "source": [
        "df['Gerakan'].value_counts()/np.float(len(df))"
      ],
      "metadata": {
        "colab": {
          "base_uri": "https://localhost:8080/"
        },
        "id": "8Tztu6tXKVIz",
        "outputId": "d18da347-55ba-403a-e2ac-345b957f0296"
      },
      "execution_count": null,
      "outputs": [
        {
          "output_type": "stream",
          "name": "stderr",
          "text": [
            "<ipython-input-6-012708728125>:1: DeprecationWarning: `np.float` is a deprecated alias for the builtin `float`. To silence this warning, use `float` by itself. Doing this will not modify any behavior and is safe. If you specifically wanted the numpy scalar type, use `np.float64` here.\n",
            "Deprecated in NumPy 1.20; for more details and guidance: https://numpy.org/devdocs/release/1.20.0-notes.html#deprecations\n",
            "  df['Gerakan'].value_counts()/np.float(len(df))\n"
          ]
        },
        {
          "output_type": "execute_result",
          "data": {
            "text/plain": [
              "1    0.25\n",
              "2    0.25\n",
              "3    0.25\n",
              "4    0.25\n",
              "Name: Gerakan, dtype: float64"
            ]
          },
          "metadata": {},
          "execution_count": 6
        }
      ]
    },
    {
      "cell_type": "code",
      "source": [
        "X = df.drop(['Gerakan'], axis=1)\n",
        "\n",
        "y = df['Gerakan']"
      ],
      "metadata": {
        "id": "FFFH9nY9KfOR"
      },
      "execution_count": null,
      "outputs": []
    },
    {
      "cell_type": "code",
      "source": [
        "print(X)"
      ],
      "metadata": {
        "colab": {
          "base_uri": "https://localhost:8080/"
        },
        "id": "X1a0mnxFK0FJ",
        "outputId": "a4f4db9c-9dd9-47aa-b207-3ce539d34050"
      },
      "execution_count": null,
      "outputs": [
        {
          "output_type": "stream",
          "name": "stdout",
          "text": [
            "        joint1    joint2    joint3    joint4\n",
            "no                                          \n",
            "1     0.000000  0.000931  0.122721  0.151753\n",
            "2     0.315640  0.001020  0.121800  0.146222\n",
            "3     0.477911  0.000842  0.119556  0.144964\n",
            "4     0.588258  0.000355  0.118274  0.148856\n",
            "5     0.086910  0.001197  0.115029  0.155030\n",
            "...        ...       ...       ...       ...\n",
            "1196  0.433686  0.060245  0.053848  0.156698\n",
            "1197  0.422714  0.060378  0.053969  0.157576\n",
            "1198  0.422618  0.060821  0.054369  0.160356\n",
            "1199  0.400289  0.061796  0.055251  0.158483\n",
            "1200  0.396439  0.063259  0.056573  0.161731\n",
            "\n",
            "[1200 rows x 4 columns]\n"
          ]
        }
      ]
    },
    {
      "cell_type": "code",
      "source": [
        "print('Input shape: ', X.shape)\n",
        "print('Target variable shape: ', y.shape)"
      ],
      "metadata": {
        "colab": {
          "base_uri": "https://localhost:8080/"
        },
        "id": "4D_Xz_zQOOCo",
        "outputId": "e106ed01-67f9-4ded-b77d-cf692693aa4f"
      },
      "execution_count": null,
      "outputs": [
        {
          "output_type": "stream",
          "name": "stdout",
          "text": [
            "Input shape:  (1200, 4)\n",
            "Target variable shape:  (1200,)\n"
          ]
        }
      ]
    },
    {
      "cell_type": "markdown",
      "source": [
        "# SPLIT DATA"
      ],
      "metadata": {
        "id": "XobjjIbNQzEM"
      }
    },
    {
      "cell_type": "code",
      "source": [
        "# Split data training and testing\n",
        "X_train, X_test, y_train, y_test = train_test_split(X, y, test_size = 0.2, random_state = 42)"
      ],
      "metadata": {
        "id": "SesVDp6TK5Y7"
      },
      "execution_count": null,
      "outputs": []
    },
    {
      "cell_type": "code",
      "source": [
        "X_train.shape, X_test.shape"
      ],
      "metadata": {
        "colab": {
          "base_uri": "https://localhost:8080/"
        },
        "id": "TlLyhS_9OcaD",
        "outputId": "0f18a1d5-8a64-47bb-bb71-e63120db1cec"
      },
      "execution_count": null,
      "outputs": [
        {
          "output_type": "execute_result",
          "data": {
            "text/plain": [
              "((960, 4), (240, 4))"
            ]
          },
          "metadata": {},
          "execution_count": 14
        }
      ]
    },
    {
      "cell_type": "code",
      "source": [
        "cols = X_train.columns"
      ],
      "metadata": {
        "id": "jZsaJAdeOnpL"
      },
      "execution_count": null,
      "outputs": []
    },
    {
      "cell_type": "code",
      "source": [
        "scaler = StandardScaler()\n",
        "\n",
        "X_train = scaler.fit_transform(X_train)\n",
        "\n",
        "X_test = scaler.transform(X_test)"
      ],
      "metadata": {
        "id": "VLhCmYgoOqZ-"
      },
      "execution_count": null,
      "outputs": []
    },
    {
      "cell_type": "code",
      "source": [
        "X_train = pd.DataFrame(X_train, columns=[cols])\n",
        "X_test = pd.DataFrame(X_test, columns=[cols])"
      ],
      "metadata": {
        "id": "-Xcf-KE_PCjJ"
      },
      "execution_count": null,
      "outputs": []
    },
    {
      "cell_type": "markdown",
      "source": [
        "# MEAN AND STD DEVIASI"
      ],
      "metadata": {
        "id": "dOrdDVvyQ5TW"
      }
    },
    {
      "cell_type": "code",
      "source": [
        "# mean and std deviasi\n",
        "for i in scaler.mean_:\n",
        "    print(f'{i}, ', end='')\n",
        "print()\n",
        "for i in scaler.scale_:\n",
        "    print(f'{i}, ', end='')"
      ],
      "metadata": {
        "colab": {
          "base_uri": "https://localhost:8080/"
        },
        "id": "mmq-SrMfPGIM",
        "outputId": "a969c332-3951-4eb7-bb2b-c810065cbdc8"
      },
      "execution_count": null,
      "outputs": [
        {
          "output_type": "stream",
          "name": "stdout",
          "text": [
            "0.3489312640229167, 0.13124884560520836, 0.23882951374270833, 0.16739279128854168, \n",
            "0.12803278726347433, 0.17124809817202125, 0.18330267742522005, 0.0604034695770903, "
          ]
        }
      ]
    },
    {
      "cell_type": "markdown",
      "source": [
        "# SEARCH BEST HYPERPARAMETER USING GRIDSEACHCV"
      ],
      "metadata": {
        "id": "OIUrRU8tQ8zQ"
      }
    },
    {
      "cell_type": "code",
      "source": [
        "# hyperparameter with GridSearchCV dengan 1 set parameter\n",
        "# instantiate classifier with default hyperparameters with kernel=rbf, C=1.0 and gamma=auto\n",
        "strat_k_fold = StratifiedKFold(n_splits=5, shuffle=True, random_state=42)\n",
        "svc=SVC()\n",
        "\n",
        "# declare parameters for hyperparameter tuning\n",
        "clf = GridSearchCV(svc, {'kernel':('linear', 'poly', 'sigmoid', 'rbf'),\n",
        "                         'C': [0.01, 0.1, 1, 10, 100, 1000],\n",
        "                         'gamma': [0.001, 0.01, 0.1, 0.2, 0.3, 0.4, 0.5, 0.6, 0.7, 0.8, 0.9]},\n",
        "                   cv=strat_k_fold)\n",
        "clf.fit(X_train, y_train)\n",
        "\n",
        "scores = cross_val_score(clf.best_estimator_, X_train, y_train, cv=strat_k_fold)\n",
        "print(f\"Accuracy: {scores.mean()*100:0.2f}%\")\n",
        "print('Parameters that give the best results :','\\n\\n', (clf.best_params_))\n",
        "print('\\n\\nEstimator that was chosen by the search :','\\n\\n', (clf.best_estimator_))"
      ],
      "metadata": {
        "id": "481az3DgPVQg"
      },
      "execution_count": null,
      "outputs": []
    },
    {
      "cell_type": "code",
      "source": [
        "# hyperparameter with GridSearchCV dengan 3 set parameter\n",
        "# instantiate classifier with default hyperparameters with kernel='', C='' and gamma=''\n",
        "svc2=SVC()\n",
        "\n",
        "# declare parameters for hyperparameter tuning\n",
        "parameters = [ {'C':[1, 10, 100, 1000], 'kernel':['linear']},\n",
        "               {'C':[1, 10, 100, 1000], 'kernel':['rbf'], 'gamma':[0.1, 0.2, 0.3, 0.4, 0.5, 0.6, 0.7, 0.8, 0.9]},\n",
        "               {'C':[1, 10, 100, 1000], 'kernel':['poly'], 'degree': [2,3,4] ,'gamma':[0.01,0.02,0.03,0.04,0.05]}\n",
        "              ]\n",
        "\n",
        "grid_search = GridSearchCV(estimator = svc2,\n",
        "                           param_grid = parameters,\n",
        "                           scoring = 'accuracy',\n",
        "                           cv = 5,\n",
        "                           verbose=0)\n",
        "\n",
        "grid_search.fit(X_train, y_train)\n",
        "# best score achieved during the GridSearchCV\n",
        "print('GridSearch CV best score : {:.4f}\\n\\n'.format(grid_search.best_score_))\n",
        "# print parameters that give the best results\n",
        "print('Parameters that give the best results :','\\n\\n', (grid_search.best_params_))\n",
        "# print estimator that was chosen by the GridSearch\n",
        "print('\\n\\nEstimator that was chosen by the search :','\\n\\n', (grid_search.best_estimator_))"
      ],
      "metadata": {
        "id": "0vqezzMERKPR"
      },
      "execution_count": null,
      "outputs": []
    }
  ]
}